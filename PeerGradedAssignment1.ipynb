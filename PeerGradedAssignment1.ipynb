{
 "cells": [
  {
   "cell_type": "markdown",
   "id": "0613f23d-725b-49aa-80fb-00be96bbe0d9",
   "metadata": {},
   "source": [
    "### Title: First Peer Graded assignment"
   ]
  },
  {
   "cell_type": "markdown",
   "id": "cc88cddb-94f1-4e75-a72a-f6888885ef4c",
   "metadata": {},
   "source": [
    "### Peer Graded Assignment Description\n",
    "#### This Peer Graded assignment tests your knowledge of the various Data Science Tools, Libraries and framework. The grading process involves creating the assignments and getting it reviewed by your peers in the course.\n",
    "\n",
    "#### There are instructions provided as to how and what to accomplish in the Peer Graded Assignment. \n",
    "\n",
    "#### The Peer Graded Assignment also describes the points that would be allocated for the assignment on the assignments"
   ]
  },
  {
   "cell_type": "markdown",
   "id": "ecf5c0b5-350b-4148-88af-2c0efa72da7d",
   "metadata": {},
   "source": [
    "### Objectives of Peer Graded Assignment\n",
    "\n",
    "The objective of the Peer Graded Assignment is to test the students' knowledge on:\n",
    "\n",
    "- List of all the Data Science Languages\n",
    "- List of all the Data Science Libraries\n",
    "- List of all the Data Science Tools\n",
    "- Practical example of how to create an arithmetic expression\n",
    "- Create a code cell to add and multiply\n",
    "- Share the notebook on GitHub for peers to access and grade the assignment\n",
    "- Provide appropriate title, description, objective, and author name to the assignment\n",
    "- Make the assignment available on GitHub for peers to publicly access and grade\n",
    "\n"
   ]
  },
  {
   "cell_type": "markdown",
   "id": "4e1e313d-3115-4e40-b16c-27363b4d55c8",
   "metadata": {},
   "source": [
    "### Author\n",
    "\n",
    "**Name:** [Parshuram] \n",
    "\n",
    "**Date:** [23rd September 2024]\n"
   ]
  },
  {
   "cell_type": "markdown",
   "id": "f9c1962d-bc39-4d84-a3b3-a5d763c8aac8",
   "metadata": {},
   "source": [
    "### Data Science Languages, Libraries and Tools\n",
    "| **Language**  | **Library/Tool**                           | **Purpose/Description**                                                                |\n",
    "|---------------|--------------------------------------------|----------------------------------------------------------------------------------------|\n",
    "| **Python**    | Pandas                                      | Data Structure & Tools                                                                 |\n",
    "|               | NumPy                                       | Arrays & Matrices                                                                      |\n",
    "|               | SciPy                                       | Scientific Computing                                                                   |\n",
    "|               | Matplotlib                                  | Data Visualization                                                                     |\n",
    "|               | PyTorch                                     | For Experimentation and Testing Research Ideas                                         |\n",
    "|               | TensorFlow                                  | Production and Deployment                                                              |\n",
    "|               | Keras                                       | Deep Learning Neural Networks                                                          |\n",
    "|               | Scikit-learn                                | Statistical Modeling: Regression, Classification, Clustering                           |\n",
    "| **R**         |                                              |                                                                                        |\n",
    "| **SQL**       |                                              |                                                                                        |\n",
    "| **Java**      | Weka                                        | Data-mining                                                                            |\n",
    "|               | Java-ML                                     | Machine Learning                                                                       |\n",
    "|               | Apache MLlib                                | Scalable Machine Learning                                                              |\n",
    "|               | Deeplearning4j                              | Deep Learning for Java                                                                 |\n",
    "| **Hadoop**    |                                              |                                                                                        |\n",
    "| **Scala**     | Spark                                       | Big Data Processing                                                                    |\n",
    "| **C++**       | TensorFlow                                  | Machine Learning Library                                                               |\n",
    "| **MongoDB**   |                                              | NoSQL Database                                                                         |\n",
    "| **JavaScript**| TensorFlow.js                                | Machine Learning in JavaScript                                                         |\n",
    "|               | R.js                                        | Reactive Extensions for JavaScript                                                     |\n",
    "|               | brain.js                                    | Neural Networks in JavaScript                                                          |\n",
    "|               | machinelearn.js                             | Machine Learning for JavaScript                                                        |\n",
    "| **Julia**     | JuliaDB                                     | Julia's DataFrames and Databases Library                                               |\n"
   ]
  },
  {
   "attachments": {},
   "cell_type": "markdown",
   "id": "dd62cbaf-b318-4c26-a662-43753b580e3f",
   "metadata": {},
   "source": [
    "### Data Science Libraries and Frameworks\n",
    "| **Category**                          | **Libraries/Frameworks**                                                                                   |\n",
    "|---------------------------------------|------------------------------------------------------------------------------------------------------------|\n",
    "| **Scientific Computing Libraries**    | Pandas, NumPy                                                                                               |\n",
    "| **Visualization Libraries**           | Matplotlib, Seaborn, Ggplot2                                                                                 |\n",
    "| **High-Level Machine Learning Libraries** | Scikit-learn                                                                                                |\n",
    "| **Deep Learning Libraries**           | Keras, TensorFlow, Big DL                                                                                    |\n",
    "| **Experimentation Framework**         | PyTorch                                                                                                     |\n",
    "| **Cluster Computing Framework**       | Apache Spark                                                                                                |\n",
    "| **Spark Libraries (for Data Engineering & Data Science)** | Scala Libraries                                                                                             |\n",
    "| **Statistical Data Visualization (Scala)** | Vegas                                                                                                       |\n",
    "ata visualisation\r\n"
   ]
  },
  {
   "cell_type": "markdown",
   "id": "2d4428ea-14c8-40a6-b700-de0133895eaa",
   "metadata": {},
   "source": [
    "## Data Science Tools (Open Source, Commercial and Cloud)\n",
    "| **Category**                         | **Subcategory**                    | **Tools**                                                                                           |\n",
    "|--------------------------------------|------------------------------------|-----------------------------------------------------------------------------------------------------|\n",
    "| **Data Management**                  | **Open Source**                    | Relational DB: MySQL, PostgreSQL <br> File-based: Hadoop <br> NoSQL DB: MongoDB, CouchDB, Cassandra  |\n",
    "|                                      | **Commercial**                     | Oracle Database, Microsoft SQL Server, IBM DB2                                                      |\n",
    "|                                      | **Cloud**                          | AWS Dynamo DB, Cloudant, IBM DB2                                                                    |\n",
    "| **Data Integration and Transformation** | **Open Source**                    | Apache AirFlow, Apache NiFi, KubeFlow, Spark SQL, Apache Kafka, Node-RED                             |\n",
    "|                                      | **Commercial**                     | Informatica, IBM Infosphere Datastage, Watson Studio Desktop, Talend                                 |\n",
    "|                                      | **Cloud**                          | Informatica, IBM Data Refinery                                                                       |\n",
    "| **Data Visualization**               | **Open Source**                    | Hue, Kibana, Apache Superset                                                                         |\n",
    "|                                      | **Commercial**                     | Tableau, Microsoft Power BI, IBM Cognos                                                              |\n",
    "|                                      | **Cloud**                          | Datameer, IBM Cognos Analytics                                                                       |\n",
    "| **Model Building**                   | **Commercial**                     | IBM SPSS Modeler, SAS Enterprise Miner                                                               |\n",
    "| **Model Deployment**                 | **Open Source**                    | PredictionIO, Seldon, MLeap, TensorFlow Service                                                      |\n",
    "|                                      | **Cloud**                          | IBM Watson ML                                                                                        |\n",
    "| **Model Monitoring and Assessment**  | **Open Source**                    | ModelDB, Prometheus, IBM AI Fairness 360, Adversarial Robustness 360, AI Explainability 360          |\n",
    "|                                      | **Commercial**                     | No major commercial products                                                                         |\n",
    "|                                      | **Cloud**                          | AWS SageMaker Model Monitor                                                                          |\n",
    "| **Code Asset Management**            | **Open Source**                    | Git (Gitlab, GitHub), Bitbucket                                                                      |\n",
    "| **Data Asset Management**            | **Open Source**                    | Apache Atlas, ODPI Egeria, Kylo                                                                      |\n",
    "|                                      | **Commercial**                     | Informatica                                                                                          |\n",
    "| **Development Environment**          | **Open Source**                    | Jupyter, Jupyter Lab, Zeppelin Notebook, R Studio, Spyder                                            |\n",
    "|                                      | **Commercial**                     | Watson Studio Desktop                                                                                |\n",
    "| **Cluster Execution Environment**    | **Open Source**                    | Apache Spark, Apache Flink, Ray                                                                      |\n",
    "| **Fully Integrated Visual Tools**    | **Open Source**                    | KNIME, Orange                                                                                        |\n",
    "|                                      | **Commercial**                     | IBM Watson Studio, IBM Watson OpenScale, H20 Driverless AI                                            |\n"
   ]
  },
  {
   "cell_type": "markdown",
   "id": "4961fb5f-7c6b-49a5-b54f-21b9357d523f",
   "metadata": {},
   "source": [
    "### Arithmetic Expressions\n",
    "\n",
    "### Examples:\n",
    "\n",
    "1. **Addition**: \n",
    "   - Expression: `5 + 3`\n",
    "   - Result: `8`\n",
    "\n",
    "2. **Subtraction**: \n",
    "   - Expression: `10 - 4`\n",
    "   - Result: `6`\n",
    "\n",
    "3. **Multiplication**: \n",
    "   - Expression: `7 * 2`\n",
    "   - Result: `14`\n",
    "\n",
    "4. **Division**: \n",
    "   - Expression: `20 / 5`\n",
    "   - Result: `4`\n",
    "\n",
    "5. **Combined Operations**: \n",
    "   - Expression: `3 + 4 * 2`\n",
    "   - Result: `11` (Note: Multiplication is performed before addition due to order of operations)\n",
    "\n",
    "6. **Using Parentheses**: \n",
    "   - Expression: `(1 + 2) * 3`\n",
    "   - Result: `9` (Parentheses change the order of operations)\n"
   ]
  },
  {
   "cell_type": "markdown",
   "id": "c0ca3909-24c1-4421-a809-d4a42bab7c61",
   "metadata": {},
   "source": [
    "### Below is the Code cell to Multiply and add number\n",
    "a = 10\n",
    "b = 20\n",
    "c = 15\n",
    "\n",
    "### Multiply a, b and c\n",
    "result1 = a * b * c\n",
    "\n",
    "### Add the a, b and c\n",
    "result2 = a + b + c\n",
    "\n",
    "### Display the results\n",
    "print(\"Result of Multiplication : \", result)\n",
    "print(\"Result of Addition : \", result)"
   ]
  },
  {
   "cell_type": "code",
   "execution_count": 72,
   "id": "94f4b036-62e7-42af-8f6b-4aa32698d9a7",
   "metadata": {},
   "outputs": [
    {
     "name": "stdout",
     "output_type": "stream",
     "text": [
      "Result of Multiplication :  3000\n",
      "Result of Addition :  45\n"
     ]
    }
   ],
   "source": [
    "a = 10\n",
    "b = 20\n",
    "c = 15\n",
    "\n",
    "# Multiply a and b\n",
    "result1 = a * b * c\n",
    "\n",
    "# Add the multiplication result to c\n",
    "result2 = a + b + c\n",
    "\n",
    "# Display the results\n",
    "print(\"Result of Multiplication : \", result1)\n",
    "print(\"Result of Addition : \", result2)"
   ]
  },
  {
   "cell_type": "markdown",
   "id": "01855115-2388-46d2-b079-055280a0579f",
   "metadata": {},
   "source": [
    "### Convert Minutes to Hours\n",
    "#### The below code cell has a function to convert minutes into hours. \n",
    "#### 1 hour = 60 minutes.\n",
    "#### We have defined a function that take minutes and returns the equivalent number of hours.\n"
   ]
  },
  {
   "cell_type": "code",
   "execution_count": 74,
   "id": "7d0edb9c-0487-4c5d-be92-949cd52d4896",
   "metadata": {},
   "outputs": [
    {
     "name": "stdout",
     "output_type": "stream",
     "text": [
      "120 minutes is equal to 2.0 hours.\n"
     ]
    }
   ],
   "source": [
    "def convert_minutes_to_hours(minutes):\n",
    "    \"\"\"Convert minutes to hours.\"\"\"\n",
    "    hours = minutes / 60\n",
    "    return hours\n",
    "\n",
    "# Example usage\n",
    "minutes_input = 120  # minutes as input\n",
    "hours_output = convert_minutes_to_hours(minutes_input)\n",
    "\n",
    "# Display the result\n",
    "print(f\"{minutes_input} minutes is equal to {hours_output} hours.\")\n"
   ]
  },
  {
   "cell_type": "code",
   "execution_count": null,
   "id": "004a2904-f8ec-41ed-ad28-4c619fff864d",
   "metadata": {},
   "outputs": [],
   "source": []
  }
 ],
 "metadata": {
  "kernelspec": {
   "display_name": "Python 3 (ipykernel)",
   "language": "python",
   "name": "python3"
  },
  "language_info": {
   "codemirror_mode": {
    "name": "ipython",
    "version": 3
   },
   "file_extension": ".py",
   "mimetype": "text/x-python",
   "name": "python",
   "nbconvert_exporter": "python",
   "pygments_lexer": "ipython3",
   "version": "3.12.4"
  }
 },
 "nbformat": 4,
 "nbformat_minor": 5
}
